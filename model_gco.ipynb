{
  "nbformat": 4,
  "nbformat_minor": 0,
  "metadata": {
    "colab": {
      "name": "model_gco.ipynb",
      "provenance": [],
      "authorship_tag": "ABX9TyN8vo6yzwdPFPN9y6bkFS2a"
    },
    "kernelspec": {
      "name": "python3",
      "display_name": "Python 3"
    },
    "accelerator": "GPU"
  },
  "cells": [
    {
      "cell_type": "code",
      "metadata": {
        "id": "vcj_-ACqtIu_",
        "colab_type": "code",
        "colab": {}
      },
      "source": [
        "!pip install ninja"
      ],
      "execution_count": null,
      "outputs": []
    },
    {
      "cell_type": "code",
      "metadata": {
        "id": "OsFnoWMwuGyT",
        "colab_type": "code",
        "colab": {}
      },
      "source": [
        "!pip install -U fastai"
      ],
      "execution_count": null,
      "outputs": []
    },
    {
      "cell_type": "code",
      "metadata": {
        "id": "xqo-jGAB4O0z",
        "colab_type": "code",
        "colab": {}
      },
      "source": [
        "!pip install langdetect"
      ],
      "execution_count": null,
      "outputs": []
    },
    {
      "cell_type": "code",
      "metadata": {
        "colab_type": "code",
        "id": "Xm7ksj7t3s7R",
        "colab": {}
      },
      "source": [
        "! git clone https://github.com/n-waves/multifit.git"
      ],
      "execution_count": null,
      "outputs": []
    },
    {
      "cell_type": "code",
      "metadata": {
        "id": "4anO8iv84q1X",
        "colab_type": "code",
        "colab": {}
      },
      "source": [
        "! pip install multifit/"
      ],
      "execution_count": null,
      "outputs": []
    },
    {
      "cell_type": "code",
      "metadata": {
        "id": "ORSU8yRP4rAx",
        "colab_type": "code",
        "colab": {}
      },
      "source": [
        "! pip install -r multifit/requirements.txt"
      ],
      "execution_count": null,
      "outputs": []
    },
    {
      "cell_type": "code",
      "metadata": {
        "id": "ziWw8nW52KuE",
        "colab_type": "code",
        "colab": {}
      },
      "source": [
        "from google.cloud import bigquery\n",
        "from langdetect import detect\n",
        "from fastai.text import *\n",
        "import pathlib\n",
        "import multifit\n",
        "from multifit.datasets import ULMFiTDataset, Dataset\n",
        "from google.colab import auth"
      ],
      "execution_count": null,
      "outputs": []
    },
    {
      "cell_type": "code",
      "metadata": {
        "id": "GGXaxQe-FDca",
        "colab_type": "code",
        "colab": {}
      },
      "source": [
        "auth.authenticate_user()"
      ],
      "execution_count": null,
      "outputs": []
    },
    {
      "cell_type": "code",
      "metadata": {
        "id": "ICHu5wdwGFFs",
        "colab_type": "code",
        "colab": {}
      },
      "source": [
        "project_id = 'tlac-vision'\n",
        "\n",
        "client = bigquery.Client(project=project_id)\n",
        "df = client.query('''\n",
        "  SELECT\n",
        "    *\n",
        "  FROM\n",
        "    `tlac-vision.book_backend.train_categories`\n",
        "''').to_dataframe()"
      ],
      "execution_count": null,
      "outputs": []
    },
    {
      "cell_type": "code",
      "metadata": {
        "id": "DfWP3207FScH",
        "colab_type": "code",
        "colab": {
          "base_uri": "https://localhost:8080/",
          "height": 419
        },
        "outputId": "95fb7398-62f6-434d-e07a-7b0c85b93694"
      },
      "source": [
        "# sorting dataframe by book category, from A to Z\n",
        "df = df.sort_values(['category'], ascending=True)\n",
        "# dropping duplicate rows\n",
        "df = df.drop_duplicates(['title']).reset_index(drop=True)\n",
        "df"
      ],
      "execution_count": null,
      "outputs": [
        {
          "output_type": "execute_result",
          "data": {
            "text/html": [
              "<div>\n",
              "<style scoped>\n",
              "    .dataframe tbody tr th:only-of-type {\n",
              "        vertical-align: middle;\n",
              "    }\n",
              "\n",
              "    .dataframe tbody tr th {\n",
              "        vertical-align: top;\n",
              "    }\n",
              "\n",
              "    .dataframe thead th {\n",
              "        text-align: right;\n",
              "    }\n",
              "</style>\n",
              "<table border=\"1\" class=\"dataframe\">\n",
              "  <thead>\n",
              "    <tr style=\"text-align: right;\">\n",
              "      <th></th>\n",
              "      <th>category</th>\n",
              "      <th>title</th>\n",
              "      <th>description</th>\n",
              "    </tr>\n",
              "  </thead>\n",
              "  <tbody>\n",
              "    <tr>\n",
              "      <th>0</th>\n",
              "      <td>anthropology</td>\n",
              "      <td>El otro es mi espejo</td>\n",
              "      <td>\"Después de 60 años como misionero en el Perú ...</td>\n",
              "    </tr>\n",
              "    <tr>\n",
              "      <th>1</th>\n",
              "      <td>anthropology</td>\n",
              "      <td>Diccionario de antropología</td>\n",
              "      <td>A lo largo de los últimos cien años la antropo...</td>\n",
              "    </tr>\n",
              "    <tr>\n",
              "      <th>2</th>\n",
              "      <td>anthropology</td>\n",
              "      <td>La cultura como praxis</td>\n",
              "      <td>En este libro, uno de los principales teoricos...</td>\n",
              "    </tr>\n",
              "    <tr>\n",
              "      <th>3</th>\n",
              "      <td>anthropology</td>\n",
              "      <td>El fuego. Mitos, ritos y realidades</td>\n",
              "      <td>El fuego, presente ya en los inicios del proce...</td>\n",
              "    </tr>\n",
              "    <tr>\n",
              "      <th>4</th>\n",
              "      <td>anthropology</td>\n",
              "      <td>Tierra encantada</td>\n",
              "      <td>Este ambicioso tratado sobre el fenómeno relig...</td>\n",
              "    </tr>\n",
              "    <tr>\n",
              "      <th>...</th>\n",
              "      <td>...</td>\n",
              "      <td>...</td>\n",
              "      <td>...</td>\n",
              "    </tr>\n",
              "    <tr>\n",
              "      <th>2753</th>\n",
              "      <td>sociology</td>\n",
              "      <td>Las tres culturas</td>\n",
              "      <td>An lisis de la relaci n llena de tensiones ent...</td>\n",
              "    </tr>\n",
              "    <tr>\n",
              "      <th>2754</th>\n",
              "      <td>sociology</td>\n",
              "      <td>Antología de Orlando Fals Borda</td>\n",
              "      <td>Presenta una selección de escritos del sociólo...</td>\n",
              "    </tr>\n",
              "    <tr>\n",
              "      <th>2755</th>\n",
              "      <td>sociology</td>\n",
              "      <td>Filosofía y sociología en Jesús Ibáñez</td>\n",
              "      <td>“Pocas veces un intelectual ha metabolizado co...</td>\n",
              "    </tr>\n",
              "    <tr>\n",
              "      <th>2756</th>\n",
              "      <td>sociology</td>\n",
              "      <td>Después del divorcio</td>\n",
              "      <td>El presente trabajo es un estudio de los efect...</td>\n",
              "    </tr>\n",
              "    <tr>\n",
              "      <th>2757</th>\n",
              "      <td>sociology</td>\n",
              "      <td>Los Consejos Europeos 1998-2001</td>\n",
              "      <td>Recoge: 1. Consejo Europeo de Cardiff - 2. Con...</td>\n",
              "    </tr>\n",
              "  </tbody>\n",
              "</table>\n",
              "<p>2758 rows × 3 columns</p>\n",
              "</div>"
            ],
            "text/plain": [
              "          category  ...                                        description\n",
              "0     anthropology  ...  \"Después de 60 años como misionero en el Perú ...\n",
              "1     anthropology  ...  A lo largo de los últimos cien años la antropo...\n",
              "2     anthropology  ...  En este libro, uno de los principales teoricos...\n",
              "3     anthropology  ...  El fuego, presente ya en los inicios del proce...\n",
              "4     anthropology  ...  Este ambicioso tratado sobre el fenómeno relig...\n",
              "...            ...  ...                                                ...\n",
              "2753     sociology  ...  An lisis de la relaci n llena de tensiones ent...\n",
              "2754     sociology  ...  Presenta una selección de escritos del sociólo...\n",
              "2755     sociology  ...  “Pocas veces un intelectual ha metabolizado co...\n",
              "2756     sociology  ...  El presente trabajo es un estudio de los efect...\n",
              "2757     sociology  ...  Recoge: 1. Consejo Europeo de Cardiff - 2. Con...\n",
              "\n",
              "[2758 rows x 3 columns]"
            ]
          },
          "metadata": {
            "tags": []
          },
          "execution_count": 10
        }
      ]
    },
    {
      "cell_type": "code",
      "metadata": {
        "id": "8QMbMmm6rCtK",
        "colab_type": "code",
        "colab": {}
      },
      "source": [
        "# deleting results that are in other languages different to spanish\n",
        "df['language'] = \"\"\n",
        "for index, row in df.iterrows():\n",
        "    row['language'] = detect(row['description'])\n",
        "df = df[df.language == 'es']\n",
        "\n",
        "cat_count = df.iloc[:, 0:2].groupby(\n",
        "    'category').count().rename(columns={'title': 'count'})  # total of registers per category"
      ],
      "execution_count": null,
      "outputs": []
    },
    {
      "cell_type": "code",
      "metadata": {
        "id": "46xFDe_zrK0e",
        "colab_type": "code",
        "colab": {}
      },
      "source": [
        "# 75% of data is for training\n",
        "cat_count['training'] = round(0.75 * cat_count['count'], 0)\n",
        "# organizing indexes to split data\n",
        "cat_count['acum'] = cat_count['count'].cumsum()\n",
        "cat_count['init_idx'] = cat_count['acum'] - cat_count['count']\n",
        "cat_count['train_idx'] = cat_count['init_idx'] + cat_count['training']\n",
        "\n",
        "# creating training set with 75% of data per category\n",
        "train_set = pd.DataFrame(data=None, columns=df.columns)\n",
        "for i in range(len(cat_count)):\n",
        "    i_idx = int(cat_count.iloc[i, 3])\n",
        "    f_idx = int(cat_count.iloc[i, 4])\n",
        "    train_set = train_set.append(df.iloc[i_idx:f_idx, :])\n",
        "\n",
        "train_set_f = train_set.loc[:, ['category', 'description']]"
      ],
      "execution_count": null,
      "outputs": []
    },
    {
      "cell_type": "code",
      "metadata": {
        "id": "O1k5VVqmrO7d",
        "colab_type": "code",
        "colab": {}
      },
      "source": [
        "# creating validation set with 25% of data per category\n",
        "val_set = pd.DataFrame(data=None, columns=df.columns)\n",
        "for i in range(len(cat_count)):\n",
        "    i_idx = int(cat_count.iloc[i, 4])\n",
        "    f_idx = int(cat_count.iloc[i, 2])\n",
        "    val_set = val_set.append(df.iloc[i_idx:f_idx, :])\n",
        "\n",
        "val_set_f = val_set.loc[:, ['category', 'description']]"
      ],
      "execution_count": null,
      "outputs": []
    },
    {
      "cell_type": "code",
      "metadata": {
        "id": "lyNcWHnzrT10",
        "colab_type": "code",
        "colab": {
          "base_uri": "https://localhost:8080/",
          "height": 34
        },
        "outputId": "8978183d-f873-4e1c-a409-04d6fb700c3e"
      },
      "source": [
        "path = pathlib.Path().absolute()\n",
        "path"
      ],
      "execution_count": null,
      "outputs": [
        {
          "output_type": "execute_result",
          "data": {
            "text/plain": [
              "PosixPath('/content')"
            ]
          },
          "metadata": {
            "tags": []
          },
          "execution_count": 14
        }
      ]
    },
    {
      "cell_type": "code",
      "metadata": {
        "id": "IhKmS1IErd1G",
        "colab_type": "code",
        "colab": {
          "base_uri": "https://localhost:8080/",
          "height": 17
        },
        "outputId": "fd2bd489-fe42-418d-d23b-662aa9a1fcb0"
      },
      "source": [
        "exp = multifit.from_pretrained(\"es_multifit_paper_version\")\n",
        "\n",
        "tok = Tokenizer(tok_func=SpacyTokenizer, lang='es')\n",
        "data = TextLMDataBunch.from_df(path=path, train_df=train_set_f, valid_df=val_set_f,\n",
        "                               tokenizer=tok, text_cols='description', label_cols='category', bs=exp.finetune_lm.bs)"
      ],
      "execution_count": null,
      "outputs": [
        {
          "output_type": "display_data",
          "data": {
            "text/html": [
              ""
            ],
            "text/plain": [
              "<IPython.core.display.HTML object>"
            ]
          },
          "metadata": {
            "tags": []
          }
        },
        {
          "output_type": "display_data",
          "data": {
            "text/html": [
              ""
            ],
            "text/plain": [
              "<IPython.core.display.HTML object>"
            ]
          },
          "metadata": {
            "tags": []
          }
        }
      ]
    },
    {
      "cell_type": "code",
      "metadata": {
        "id": "-NAw_AN_syfS",
        "colab_type": "code",
        "colab": {}
      },
      "source": [
        "learn = exp.finetune_lm.get_learner(data)"
      ],
      "execution_count": null,
      "outputs": []
    },
    {
      "cell_type": "code",
      "metadata": {
        "id": "9-HvKHRaLxim",
        "colab_type": "code",
        "colab": {}
      },
      "source": [
        "exp = multifit.from_pretrained(\"es_multifit_paper_version\")\n",
        "fa_config =  exp.pretrain_lm.tokenizer.get_fastai_config(add_open_file_processor=True)\n",
        "data_lm = (TextList.from_folder(imdb_path, **fa_config)\n",
        "            .filter_by_folder(include=['train', 'test', 'unsup']) \n",
        "            .split_by_rand_pct(0.1)\n",
        "            .label_for_lm()           \n",
        "            .databunch(bs=bs))\n",
        "learn = exp.finetune_lm.get_learner(data_lm)\n",
        "# learn is a preconfigured fastai learner with a pretrained model loaded\n",
        "learn.fit_one_cycle(10)\n",
        "learn.save_encoder(\"enc\")"
      ],
      "execution_count": null,
      "outputs": []
    }
  ]
}